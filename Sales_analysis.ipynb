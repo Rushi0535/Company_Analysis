{
 "cells": [
  {
   "cell_type": "markdown",
   "metadata": {},
   "source": [
    "# Data Analysed By Rushi Prajapati\n",
    "There are total 5 csv of comapany's information data "
   ]
  },
  {
   "cell_type": "code",
   "execution_count": 1,
   "metadata": {},
   "outputs": [],
   "source": [
    "import pandas as pd\n",
    "#importing the library for Data Ananlysis/Data processing\n",
    "import numpy as np\n",
    "#importing the library for Data Ananlysis/Data processing in mathematical way\n",
    "import matplotlib.pyplot as plt\n",
    "#importing the library for Data Visualization\n",
    "import datetime\n",
    "#importing the library for Date and Time"
   ]
  },
  {
   "cell_type": "markdown",
   "metadata": {},
   "source": [
    "# Companies Detail"
   ]
  },
  {
   "cell_type": "code",
   "execution_count": 2,
   "metadata": {},
   "outputs": [
    {
     "data": {
      "text/html": [
       "<div>\n",
       "<style scoped>\n",
       "    .dataframe tbody tr th:only-of-type {\n",
       "        vertical-align: middle;\n",
       "    }\n",
       "\n",
       "    .dataframe tbody tr th {\n",
       "        vertical-align: top;\n",
       "    }\n",
       "\n",
       "    .dataframe thead th {\n",
       "        text-align: right;\n",
       "    }\n",
       "</style>\n",
       "<table border=\"1\" class=\"dataframe\">\n",
       "  <thead>\n",
       "    <tr style=\"text-align: right;\">\n",
       "      <th></th>\n",
       "      <th>Company_id</th>\n",
       "      <th>Company_Name</th>\n",
       "    </tr>\n",
       "  </thead>\n",
       "  <tbody>\n",
       "    <tr>\n",
       "      <th>0</th>\n",
       "      <td>C-1</td>\n",
       "      <td>TATA</td>\n",
       "    </tr>\n",
       "    <tr>\n",
       "      <th>1</th>\n",
       "      <td>C-2</td>\n",
       "      <td>RELIANCE</td>\n",
       "    </tr>\n",
       "    <tr>\n",
       "      <th>2</th>\n",
       "      <td>C-3</td>\n",
       "      <td>ADANI</td>\n",
       "    </tr>\n",
       "  </tbody>\n",
       "</table>\n",
       "</div>"
      ],
      "text/plain": [
       "  Company_id Company_Name\n",
       "0        C-1         TATA\n",
       "1        C-2     RELIANCE\n",
       "2        C-3        ADANI"
      ]
     },
     "execution_count": 2,
     "metadata": {},
     "output_type": "execute_result"
    }
   ],
   "source": [
    "company_details_df = pd.read_csv('Company details - Sheet1 - Company details - Sheet1.csv')\n",
    "company_details_df\n",
    "#reading the csv file"
   ]
  },
  {
   "cell_type": "markdown",
   "metadata": {},
   "source": [
    "# Branch Details Of Companies"
   ]
  },
  {
   "cell_type": "code",
   "execution_count": 3,
   "metadata": {},
   "outputs": [
    {
     "data": {
      "text/html": [
       "<div>\n",
       "<style scoped>\n",
       "    .dataframe tbody tr th:only-of-type {\n",
       "        vertical-align: middle;\n",
       "    }\n",
       "\n",
       "    .dataframe tbody tr th {\n",
       "        vertical-align: top;\n",
       "    }\n",
       "\n",
       "    .dataframe thead th {\n",
       "        text-align: right;\n",
       "    }\n",
       "</style>\n",
       "<table border=\"1\" class=\"dataframe\">\n",
       "  <thead>\n",
       "    <tr style=\"text-align: right;\">\n",
       "      <th></th>\n",
       "      <th>Branch_id</th>\n",
       "      <th>Branch_Name</th>\n",
       "      <th>Company_id</th>\n",
       "      <th>Company_Name</th>\n",
       "    </tr>\n",
       "  </thead>\n",
       "  <tbody>\n",
       "    <tr>\n",
       "      <th>0</th>\n",
       "      <td>B-101</td>\n",
       "      <td>AHMEDABAD</td>\n",
       "      <td>C-1</td>\n",
       "      <td>TATA</td>\n",
       "    </tr>\n",
       "    <tr>\n",
       "      <th>1</th>\n",
       "      <td>B-102</td>\n",
       "      <td>SURAT</td>\n",
       "      <td>C-1</td>\n",
       "      <td>TATA</td>\n",
       "    </tr>\n",
       "    <tr>\n",
       "      <th>2</th>\n",
       "      <td>B-103</td>\n",
       "      <td>BARODA</td>\n",
       "      <td>C-1</td>\n",
       "      <td>TATA</td>\n",
       "    </tr>\n",
       "    <tr>\n",
       "      <th>3</th>\n",
       "      <td>B-104</td>\n",
       "      <td>GANDHINAGAR</td>\n",
       "      <td>C-1</td>\n",
       "      <td>TATA</td>\n",
       "    </tr>\n",
       "    <tr>\n",
       "      <th>4</th>\n",
       "      <td>B-105</td>\n",
       "      <td>RAJKOT</td>\n",
       "      <td>C-1</td>\n",
       "      <td>TATA</td>\n",
       "    </tr>\n",
       "    <tr>\n",
       "      <th>5</th>\n",
       "      <td>B-201</td>\n",
       "      <td>AHMEDABAD</td>\n",
       "      <td>C-2</td>\n",
       "      <td>RELIANCE</td>\n",
       "    </tr>\n",
       "    <tr>\n",
       "      <th>6</th>\n",
       "      <td>B-202</td>\n",
       "      <td>SURAT</td>\n",
       "      <td>C-2</td>\n",
       "      <td>RELIANCE</td>\n",
       "    </tr>\n",
       "    <tr>\n",
       "      <th>7</th>\n",
       "      <td>B-203</td>\n",
       "      <td>BARODA</td>\n",
       "      <td>C-2</td>\n",
       "      <td>RELIANCE</td>\n",
       "    </tr>\n",
       "    <tr>\n",
       "      <th>8</th>\n",
       "      <td>B-204</td>\n",
       "      <td>GANDHINAGAR</td>\n",
       "      <td>C-2</td>\n",
       "      <td>RELIANCE</td>\n",
       "    </tr>\n",
       "    <tr>\n",
       "      <th>9</th>\n",
       "      <td>B-205</td>\n",
       "      <td>RAJKOT</td>\n",
       "      <td>C-2</td>\n",
       "      <td>RELIANCE</td>\n",
       "    </tr>\n",
       "    <tr>\n",
       "      <th>10</th>\n",
       "      <td>B-301</td>\n",
       "      <td>AHMEDABAD</td>\n",
       "      <td>C-3</td>\n",
       "      <td>ADANI</td>\n",
       "    </tr>\n",
       "    <tr>\n",
       "      <th>11</th>\n",
       "      <td>B-302</td>\n",
       "      <td>SURAT</td>\n",
       "      <td>C-3</td>\n",
       "      <td>ADANI</td>\n",
       "    </tr>\n",
       "    <tr>\n",
       "      <th>12</th>\n",
       "      <td>B-303</td>\n",
       "      <td>BARODA</td>\n",
       "      <td>C-3</td>\n",
       "      <td>ADANI</td>\n",
       "    </tr>\n",
       "    <tr>\n",
       "      <th>13</th>\n",
       "      <td>B-304</td>\n",
       "      <td>GANDHINAGAR</td>\n",
       "      <td>C-3</td>\n",
       "      <td>ADANI</td>\n",
       "    </tr>\n",
       "    <tr>\n",
       "      <th>14</th>\n",
       "      <td>B-305</td>\n",
       "      <td>RAJKOT</td>\n",
       "      <td>C-3</td>\n",
       "      <td>ADANI</td>\n",
       "    </tr>\n",
       "  </tbody>\n",
       "</table>\n",
       "</div>"
      ],
      "text/plain": [
       "   Branch_id  Branch_Name Company_id Company_Name\n",
       "0      B-101    AHMEDABAD        C-1         TATA\n",
       "1      B-102        SURAT        C-1         TATA\n",
       "2      B-103       BARODA        C-1         TATA\n",
       "3      B-104  GANDHINAGAR        C-1         TATA\n",
       "4      B-105       RAJKOT        C-1         TATA\n",
       "5      B-201    AHMEDABAD        C-2     RELIANCE\n",
       "6      B-202        SURAT        C-2     RELIANCE\n",
       "7      B-203       BARODA        C-2     RELIANCE\n",
       "8      B-204  GANDHINAGAR        C-2     RELIANCE\n",
       "9      B-205       RAJKOT        C-2     RELIANCE\n",
       "10     B-301    AHMEDABAD        C-3        ADANI\n",
       "11     B-302        SURAT        C-3        ADANI\n",
       "12     B-303       BARODA        C-3        ADANI\n",
       "13     B-304  GANDHINAGAR        C-3        ADANI\n",
       "14     B-305       RAJKOT        C-3        ADANI"
      ]
     },
     "execution_count": 3,
     "metadata": {},
     "output_type": "execute_result"
    }
   ],
   "source": [
    "branch_df = pd.read_csv('Branch details - Sheet1.csv')\n",
    "branch_df.merge(company_details_df)\n",
    "#reading the csv file"
   ]
  },
  {
   "cell_type": "markdown",
   "metadata": {},
   "source": [
    "# Branches in Ahmedabad"
   ]
  },
  {
   "cell_type": "code",
   "execution_count": 4,
   "metadata": {},
   "outputs": [
    {
     "data": {
      "text/html": [
       "<div>\n",
       "<style scoped>\n",
       "    .dataframe tbody tr th:only-of-type {\n",
       "        vertical-align: middle;\n",
       "    }\n",
       "\n",
       "    .dataframe tbody tr th {\n",
       "        vertical-align: top;\n",
       "    }\n",
       "\n",
       "    .dataframe thead th {\n",
       "        text-align: right;\n",
       "    }\n",
       "</style>\n",
       "<table border=\"1\" class=\"dataframe\">\n",
       "  <thead>\n",
       "    <tr style=\"text-align: right;\">\n",
       "      <th></th>\n",
       "      <th>Branch_id</th>\n",
       "      <th>Branch_Name</th>\n",
       "      <th>Company_id</th>\n",
       "      <th>Company_Name</th>\n",
       "    </tr>\n",
       "  </thead>\n",
       "  <tbody>\n",
       "    <tr>\n",
       "      <th>0</th>\n",
       "      <td>B-101</td>\n",
       "      <td>AHMEDABAD</td>\n",
       "      <td>C-1</td>\n",
       "      <td>TATA</td>\n",
       "    </tr>\n",
       "    <tr>\n",
       "      <th>1</th>\n",
       "      <td>B-201</td>\n",
       "      <td>AHMEDABAD</td>\n",
       "      <td>C-2</td>\n",
       "      <td>RELIANCE</td>\n",
       "    </tr>\n",
       "    <tr>\n",
       "      <th>2</th>\n",
       "      <td>B-301</td>\n",
       "      <td>AHMEDABAD</td>\n",
       "      <td>C-3</td>\n",
       "      <td>ADANI</td>\n",
       "    </tr>\n",
       "  </tbody>\n",
       "</table>\n",
       "</div>"
      ],
      "text/plain": [
       "  Branch_id Branch_Name Company_id Company_Name\n",
       "0     B-101   AHMEDABAD        C-1         TATA\n",
       "1     B-201   AHMEDABAD        C-2     RELIANCE\n",
       "2     B-301   AHMEDABAD        C-3        ADANI"
      ]
     },
     "execution_count": 4,
     "metadata": {},
     "output_type": "execute_result"
    }
   ],
   "source": [
    "branch_df=branch_df[branch_df[\"Branch_Name\"]=='AHMEDABAD']\n",
    "branch_df.merge(company_details_df)\n",
    "#filtering the dataframe based on the branch name"
   ]
  },
  {
   "cell_type": "markdown",
   "metadata": {},
   "source": [
    "# Employee Details Of Companies"
   ]
  },
  {
   "cell_type": "code",
   "execution_count": 5,
   "metadata": {},
   "outputs": [
    {
     "data": {
      "text/html": [
       "<div>\n",
       "<style scoped>\n",
       "    .dataframe tbody tr th:only-of-type {\n",
       "        vertical-align: middle;\n",
       "    }\n",
       "\n",
       "    .dataframe tbody tr th {\n",
       "        vertical-align: top;\n",
       "    }\n",
       "\n",
       "    .dataframe thead th {\n",
       "        text-align: right;\n",
       "    }\n",
       "</style>\n",
       "<table border=\"1\" class=\"dataframe\">\n",
       "  <thead>\n",
       "    <tr style=\"text-align: right;\">\n",
       "      <th></th>\n",
       "      <th>Employee_Id</th>\n",
       "      <th>Employee_Name</th>\n",
       "      <th>Branch_ID</th>\n",
       "      <th>Company_ID</th>\n",
       "    </tr>\n",
       "  </thead>\n",
       "  <tbody>\n",
       "    <tr>\n",
       "      <th>0</th>\n",
       "      <td>E-101</td>\n",
       "      <td>xyz-1</td>\n",
       "      <td>B-101</td>\n",
       "      <td>C1</td>\n",
       "    </tr>\n",
       "    <tr>\n",
       "      <th>1</th>\n",
       "      <td>E-102</td>\n",
       "      <td>xyz-2</td>\n",
       "      <td>B-102</td>\n",
       "      <td>C1</td>\n",
       "    </tr>\n",
       "    <tr>\n",
       "      <th>2</th>\n",
       "      <td>E-103</td>\n",
       "      <td>xyz-3</td>\n",
       "      <td>B-103</td>\n",
       "      <td>C1</td>\n",
       "    </tr>\n",
       "    <tr>\n",
       "      <th>3</th>\n",
       "      <td>E-104</td>\n",
       "      <td>xyz-4</td>\n",
       "      <td>B-104</td>\n",
       "      <td>C1</td>\n",
       "    </tr>\n",
       "    <tr>\n",
       "      <th>4</th>\n",
       "      <td>E-105</td>\n",
       "      <td>xyz-5</td>\n",
       "      <td>B-105</td>\n",
       "      <td>C1</td>\n",
       "    </tr>\n",
       "    <tr>\n",
       "      <th>5</th>\n",
       "      <td>E-201</td>\n",
       "      <td>xyz-6</td>\n",
       "      <td>B-201</td>\n",
       "      <td>C2</td>\n",
       "    </tr>\n",
       "    <tr>\n",
       "      <th>6</th>\n",
       "      <td>E-202</td>\n",
       "      <td>xyz-7</td>\n",
       "      <td>B-202</td>\n",
       "      <td>C2</td>\n",
       "    </tr>\n",
       "    <tr>\n",
       "      <th>7</th>\n",
       "      <td>E-203</td>\n",
       "      <td>xyz-8</td>\n",
       "      <td>B-203</td>\n",
       "      <td>C2</td>\n",
       "    </tr>\n",
       "    <tr>\n",
       "      <th>8</th>\n",
       "      <td>E-204</td>\n",
       "      <td>xyz-9</td>\n",
       "      <td>B-204</td>\n",
       "      <td>C2</td>\n",
       "    </tr>\n",
       "    <tr>\n",
       "      <th>9</th>\n",
       "      <td>E-205</td>\n",
       "      <td>xyz-10</td>\n",
       "      <td>B-205</td>\n",
       "      <td>C2</td>\n",
       "    </tr>\n",
       "    <tr>\n",
       "      <th>10</th>\n",
       "      <td>E-301</td>\n",
       "      <td>xyz-11</td>\n",
       "      <td>B-301</td>\n",
       "      <td>C3</td>\n",
       "    </tr>\n",
       "    <tr>\n",
       "      <th>11</th>\n",
       "      <td>E-302</td>\n",
       "      <td>xyz-12</td>\n",
       "      <td>B-302</td>\n",
       "      <td>C3</td>\n",
       "    </tr>\n",
       "    <tr>\n",
       "      <th>12</th>\n",
       "      <td>E-303</td>\n",
       "      <td>xyz-13</td>\n",
       "      <td>B-303</td>\n",
       "      <td>C3</td>\n",
       "    </tr>\n",
       "    <tr>\n",
       "      <th>13</th>\n",
       "      <td>E-304</td>\n",
       "      <td>xyz-14</td>\n",
       "      <td>B-304</td>\n",
       "      <td>C3</td>\n",
       "    </tr>\n",
       "    <tr>\n",
       "      <th>14</th>\n",
       "      <td>E-305</td>\n",
       "      <td>xyz-15</td>\n",
       "      <td>B-305</td>\n",
       "      <td>C3</td>\n",
       "    </tr>\n",
       "  </tbody>\n",
       "</table>\n",
       "</div>"
      ],
      "text/plain": [
       "   Employee_Id Employee_Name Branch_ID  Company_ID\n",
       "0        E-101         xyz-1      B-101         C1\n",
       "1        E-102         xyz-2      B-102         C1\n",
       "2        E-103         xyz-3      B-103         C1\n",
       "3        E-104         xyz-4      B-104         C1\n",
       "4        E-105         xyz-5      B-105         C1\n",
       "5        E-201         xyz-6      B-201         C2\n",
       "6        E-202         xyz-7      B-202         C2\n",
       "7        E-203         xyz-8      B-203         C2\n",
       "8        E-204         xyz-9      B-204         C2\n",
       "9        E-205        xyz-10      B-205         C2\n",
       "10       E-301        xyz-11      B-301         C3\n",
       "11       E-302        xyz-12      B-302         C3\n",
       "12       E-303        xyz-13      B-303         C3\n",
       "13       E-304        xyz-14      B-304         C3\n",
       "14       E-305        xyz-15      B-305         C3"
      ]
     },
     "execution_count": 5,
     "metadata": {},
     "output_type": "execute_result"
    }
   ],
   "source": [
    "employee_details_df = pd.read_csv('Employee details - Sheet1.csv')\n",
    "employee_details_df\n",
    "#reading the csv file"
   ]
  },
  {
   "cell_type": "markdown",
   "metadata": {},
   "source": [
    "# Product Details Of Companies"
   ]
  },
  {
   "cell_type": "code",
   "execution_count": 6,
   "metadata": {},
   "outputs": [
    {
     "data": {
      "text/html": [
       "<div>\n",
       "<style scoped>\n",
       "    .dataframe tbody tr th:only-of-type {\n",
       "        vertical-align: middle;\n",
       "    }\n",
       "\n",
       "    .dataframe tbody tr th {\n",
       "        vertical-align: top;\n",
       "    }\n",
       "\n",
       "    .dataframe thead th {\n",
       "        text-align: right;\n",
       "    }\n",
       "</style>\n",
       "<table border=\"1\" class=\"dataframe\">\n",
       "  <thead>\n",
       "    <tr style=\"text-align: right;\">\n",
       "      <th></th>\n",
       "      <th>Product_Id</th>\n",
       "      <th>Product_Name</th>\n",
       "      <th>Company_Id</th>\n",
       "      <th>Product_Quantity</th>\n",
       "      <th>Price</th>\n",
       "      <th>Sales</th>\n",
       "    </tr>\n",
       "  </thead>\n",
       "  <tbody>\n",
       "    <tr>\n",
       "      <th>0</th>\n",
       "      <td>P-101</td>\n",
       "      <td>TATA_Product</td>\n",
       "      <td>C1</td>\n",
       "      <td>1235</td>\n",
       "      <td>1500</td>\n",
       "      <td>1852500</td>\n",
       "    </tr>\n",
       "    <tr>\n",
       "      <th>1</th>\n",
       "      <td>P-102</td>\n",
       "      <td>TATA_product</td>\n",
       "      <td>C1</td>\n",
       "      <td>1046</td>\n",
       "      <td>1500</td>\n",
       "      <td>1569000</td>\n",
       "    </tr>\n",
       "    <tr>\n",
       "      <th>2</th>\n",
       "      <td>P-103</td>\n",
       "      <td>TATA_Product</td>\n",
       "      <td>C1</td>\n",
       "      <td>1461</td>\n",
       "      <td>1500</td>\n",
       "      <td>2191500</td>\n",
       "    </tr>\n",
       "    <tr>\n",
       "      <th>3</th>\n",
       "      <td>P-104</td>\n",
       "      <td>TATA_Product</td>\n",
       "      <td>C1</td>\n",
       "      <td>1097</td>\n",
       "      <td>1500</td>\n",
       "      <td>1645500</td>\n",
       "    </tr>\n",
       "    <tr>\n",
       "      <th>4</th>\n",
       "      <td>P-105</td>\n",
       "      <td>TATA_Product</td>\n",
       "      <td>C1</td>\n",
       "      <td>1630</td>\n",
       "      <td>1500</td>\n",
       "      <td>2445000</td>\n",
       "    </tr>\n",
       "    <tr>\n",
       "      <th>5</th>\n",
       "      <td>P-201</td>\n",
       "      <td>RELIANCE_Product</td>\n",
       "      <td>C2</td>\n",
       "      <td>1268</td>\n",
       "      <td>1200</td>\n",
       "      <td>1521600</td>\n",
       "    </tr>\n",
       "    <tr>\n",
       "      <th>6</th>\n",
       "      <td>P-202</td>\n",
       "      <td>RELIANCE_Product</td>\n",
       "      <td>C2</td>\n",
       "      <td>1524</td>\n",
       "      <td>1200</td>\n",
       "      <td>1828800</td>\n",
       "    </tr>\n",
       "    <tr>\n",
       "      <th>7</th>\n",
       "      <td>P-203</td>\n",
       "      <td>RELIANCE_Product</td>\n",
       "      <td>C2</td>\n",
       "      <td>1866</td>\n",
       "      <td>1200</td>\n",
       "      <td>2239200</td>\n",
       "    </tr>\n",
       "    <tr>\n",
       "      <th>8</th>\n",
       "      <td>P-204</td>\n",
       "      <td>RELIANCE_Product</td>\n",
       "      <td>C2</td>\n",
       "      <td>1350</td>\n",
       "      <td>1200</td>\n",
       "      <td>1620000</td>\n",
       "    </tr>\n",
       "    <tr>\n",
       "      <th>9</th>\n",
       "      <td>P-205</td>\n",
       "      <td>RELIANCE_Product</td>\n",
       "      <td>C2</td>\n",
       "      <td>1786</td>\n",
       "      <td>1200</td>\n",
       "      <td>2143200</td>\n",
       "    </tr>\n",
       "    <tr>\n",
       "      <th>10</th>\n",
       "      <td>P-301</td>\n",
       "      <td>ADANI_Product</td>\n",
       "      <td>C3</td>\n",
       "      <td>1067</td>\n",
       "      <td>1400</td>\n",
       "      <td>1493800</td>\n",
       "    </tr>\n",
       "    <tr>\n",
       "      <th>11</th>\n",
       "      <td>P-302</td>\n",
       "      <td>ADANI_Product</td>\n",
       "      <td>C3</td>\n",
       "      <td>1522</td>\n",
       "      <td>1400</td>\n",
       "      <td>2130800</td>\n",
       "    </tr>\n",
       "    <tr>\n",
       "      <th>12</th>\n",
       "      <td>P-303</td>\n",
       "      <td>ADANI_Product</td>\n",
       "      <td>C3</td>\n",
       "      <td>1802</td>\n",
       "      <td>1400</td>\n",
       "      <td>2522800</td>\n",
       "    </tr>\n",
       "    <tr>\n",
       "      <th>13</th>\n",
       "      <td>P-304</td>\n",
       "      <td>ADANI_Product</td>\n",
       "      <td>C3</td>\n",
       "      <td>1237</td>\n",
       "      <td>1400</td>\n",
       "      <td>1731800</td>\n",
       "    </tr>\n",
       "    <tr>\n",
       "      <th>14</th>\n",
       "      <td>P-305</td>\n",
       "      <td>ADANI_Product</td>\n",
       "      <td>C3</td>\n",
       "      <td>1334</td>\n",
       "      <td>1400</td>\n",
       "      <td>1867600</td>\n",
       "    </tr>\n",
       "  </tbody>\n",
       "</table>\n",
       "</div>"
      ],
      "text/plain": [
       "   Product_Id      Product_Name Company_Id  Product_Quantity  Price    Sales\n",
       "0       P-101      TATA_Product         C1              1235   1500  1852500\n",
       "1       P-102      TATA_product         C1              1046   1500  1569000\n",
       "2       P-103      TATA_Product         C1              1461   1500  2191500\n",
       "3       P-104      TATA_Product         C1              1097   1500  1645500\n",
       "4       P-105      TATA_Product         C1              1630   1500  2445000\n",
       "5       P-201  RELIANCE_Product         C2              1268   1200  1521600\n",
       "6       P-202  RELIANCE_Product         C2              1524   1200  1828800\n",
       "7       P-203  RELIANCE_Product         C2              1866   1200  2239200\n",
       "8       P-204  RELIANCE_Product         C2              1350   1200  1620000\n",
       "9       P-205  RELIANCE_Product         C2              1786   1200  2143200\n",
       "10      P-301     ADANI_Product         C3              1067   1400  1493800\n",
       "11      P-302     ADANI_Product         C3              1522   1400  2130800\n",
       "12      P-303     ADANI_Product         C3              1802   1400  2522800\n",
       "13      P-304     ADANI_Product         C3              1237   1400  1731800\n",
       "14      P-305     ADANI_Product         C3              1334   1400  1867600"
      ]
     },
     "execution_count": 6,
     "metadata": {},
     "output_type": "execute_result"
    }
   ],
   "source": [
    "product_df = pd.read_csv('Product details - Sheet1.csv')\n",
    "product_df\n",
    "#reading the csv file"
   ]
  },
  {
   "cell_type": "markdown",
   "metadata": {},
   "source": [
    "# How Many Products are Sold And How Much Is the Sale in 2020"
   ]
  },
  {
   "cell_type": "code",
   "execution_count": 7,
   "metadata": {},
   "outputs": [
    {
     "data": {
      "text/html": [
       "<div>\n",
       "<style scoped>\n",
       "    .dataframe tbody tr th:only-of-type {\n",
       "        vertical-align: middle;\n",
       "    }\n",
       "\n",
       "    .dataframe tbody tr th {\n",
       "        vertical-align: top;\n",
       "    }\n",
       "\n",
       "    .dataframe thead th {\n",
       "        text-align: right;\n",
       "    }\n",
       "</style>\n",
       "<table border=\"1\" class=\"dataframe\">\n",
       "  <thead>\n",
       "    <tr style=\"text-align: right;\">\n",
       "      <th></th>\n",
       "      <th>Product_Quantity</th>\n",
       "      <th>Sales</th>\n",
       "    </tr>\n",
       "    <tr>\n",
       "      <th>Product_Name</th>\n",
       "      <th></th>\n",
       "      <th></th>\n",
       "    </tr>\n",
       "  </thead>\n",
       "  <tbody>\n",
       "    <tr>\n",
       "      <th>ADANI_Product</th>\n",
       "      <td>6962</td>\n",
       "      <td>9746800</td>\n",
       "    </tr>\n",
       "    <tr>\n",
       "      <th>RELIANCE_Product</th>\n",
       "      <td>7794</td>\n",
       "      <td>9352800</td>\n",
       "    </tr>\n",
       "    <tr>\n",
       "      <th>TATA_Product</th>\n",
       "      <td>5423</td>\n",
       "      <td>8134500</td>\n",
       "    </tr>\n",
       "    <tr>\n",
       "      <th>TATA_product</th>\n",
       "      <td>1046</td>\n",
       "      <td>1569000</td>\n",
       "    </tr>\n",
       "  </tbody>\n",
       "</table>\n",
       "</div>"
      ],
      "text/plain": [
       "                  Product_Quantity    Sales\n",
       "Product_Name                               \n",
       "ADANI_Product                 6962  9746800\n",
       "RELIANCE_Product              7794  9352800\n",
       "TATA_Product                  5423  8134500\n",
       "TATA_product                  1046  1569000"
      ]
     },
     "execution_count": 7,
     "metadata": {},
     "output_type": "execute_result"
    }
   ],
   "source": [
    "product_df[[\"Product_Name\",\"Product_Quantity\",\"Sales\"]].groupby(\"Product_Name\").sum().sort_values(by=\"Sales\",ascending=False)\n",
    "#grouping the dataframe by Product_Name\n",
    "#summing the dataframe by Product_Quantity\n",
    "#sorting the dataframe by Sales in descending order\n",
    "#printing the dataframe"
   ]
  },
  {
   "cell_type": "markdown",
   "metadata": {},
   "source": [
    "# Master Dataset Of Companies"
   ]
  },
  {
   "cell_type": "code",
   "execution_count": 8,
   "metadata": {},
   "outputs": [
    {
     "data": {
      "text/html": [
       "<div>\n",
       "<style scoped>\n",
       "    .dataframe tbody tr th:only-of-type {\n",
       "        vertical-align: middle;\n",
       "    }\n",
       "\n",
       "    .dataframe tbody tr th {\n",
       "        vertical-align: top;\n",
       "    }\n",
       "\n",
       "    .dataframe thead th {\n",
       "        text-align: right;\n",
       "    }\n",
       "</style>\n",
       "<table border=\"1\" class=\"dataframe\">\n",
       "  <thead>\n",
       "    <tr style=\"text-align: right;\">\n",
       "      <th></th>\n",
       "      <th>Company_ID</th>\n",
       "      <th>Branch_ID</th>\n",
       "      <th>Employee_ID</th>\n",
       "      <th>Product_ID</th>\n",
       "      <th>DATE</th>\n",
       "      <th>Product_Quantity</th>\n",
       "      <th>Price</th>\n",
       "      <th>Sales</th>\n",
       "    </tr>\n",
       "  </thead>\n",
       "  <tbody>\n",
       "    <tr>\n",
       "      <th>0</th>\n",
       "      <td>C1</td>\n",
       "      <td>B-101</td>\n",
       "      <td>E-101</td>\n",
       "      <td>P-101</td>\n",
       "      <td>01-01-2020</td>\n",
       "      <td>1826</td>\n",
       "      <td>1500</td>\n",
       "      <td>2739000</td>\n",
       "    </tr>\n",
       "    <tr>\n",
       "      <th>1</th>\n",
       "      <td>C1</td>\n",
       "      <td>B-101</td>\n",
       "      <td>E-101</td>\n",
       "      <td>P-101</td>\n",
       "      <td>02-01-2020</td>\n",
       "      <td>1089</td>\n",
       "      <td>1500</td>\n",
       "      <td>1633500</td>\n",
       "    </tr>\n",
       "    <tr>\n",
       "      <th>2</th>\n",
       "      <td>C1</td>\n",
       "      <td>B-101</td>\n",
       "      <td>E-101</td>\n",
       "      <td>P-101</td>\n",
       "      <td>03-01-2020</td>\n",
       "      <td>1101</td>\n",
       "      <td>1500</td>\n",
       "      <td>1651500</td>\n",
       "    </tr>\n",
       "    <tr>\n",
       "      <th>3</th>\n",
       "      <td>C1</td>\n",
       "      <td>B-101</td>\n",
       "      <td>E-101</td>\n",
       "      <td>P-101</td>\n",
       "      <td>04-01-2020</td>\n",
       "      <td>1366</td>\n",
       "      <td>1500</td>\n",
       "      <td>2049000</td>\n",
       "    </tr>\n",
       "    <tr>\n",
       "      <th>4</th>\n",
       "      <td>C1</td>\n",
       "      <td>B-101</td>\n",
       "      <td>E-101</td>\n",
       "      <td>P-101</td>\n",
       "      <td>05-01-2020</td>\n",
       "      <td>1198</td>\n",
       "      <td>1500</td>\n",
       "      <td>1797000</td>\n",
       "    </tr>\n",
       "    <tr>\n",
       "      <th>...</th>\n",
       "      <td>...</td>\n",
       "      <td>...</td>\n",
       "      <td>...</td>\n",
       "      <td>...</td>\n",
       "      <td>...</td>\n",
       "      <td>...</td>\n",
       "      <td>...</td>\n",
       "      <td>...</td>\n",
       "    </tr>\n",
       "    <tr>\n",
       "      <th>5485</th>\n",
       "      <td>C3</td>\n",
       "      <td>B-305</td>\n",
       "      <td>E-305</td>\n",
       "      <td>P-305</td>\n",
       "      <td>27-12-2020</td>\n",
       "      <td>1234</td>\n",
       "      <td>1400</td>\n",
       "      <td>1727600</td>\n",
       "    </tr>\n",
       "    <tr>\n",
       "      <th>5486</th>\n",
       "      <td>C3</td>\n",
       "      <td>B-305</td>\n",
       "      <td>E-305</td>\n",
       "      <td>P-305</td>\n",
       "      <td>28-12-2020</td>\n",
       "      <td>1133</td>\n",
       "      <td>1400</td>\n",
       "      <td>1586200</td>\n",
       "    </tr>\n",
       "    <tr>\n",
       "      <th>5487</th>\n",
       "      <td>C3</td>\n",
       "      <td>B-305</td>\n",
       "      <td>E-305</td>\n",
       "      <td>P-305</td>\n",
       "      <td>29-12-2020</td>\n",
       "      <td>1741</td>\n",
       "      <td>1400</td>\n",
       "      <td>2437400</td>\n",
       "    </tr>\n",
       "    <tr>\n",
       "      <th>5488</th>\n",
       "      <td>C3</td>\n",
       "      <td>B-305</td>\n",
       "      <td>E-305</td>\n",
       "      <td>P-305</td>\n",
       "      <td>30-12-2020</td>\n",
       "      <td>1176</td>\n",
       "      <td>1400</td>\n",
       "      <td>1646400</td>\n",
       "    </tr>\n",
       "    <tr>\n",
       "      <th>5489</th>\n",
       "      <td>C3</td>\n",
       "      <td>B-305</td>\n",
       "      <td>E-305</td>\n",
       "      <td>P-305</td>\n",
       "      <td>31-12-2020</td>\n",
       "      <td>1809</td>\n",
       "      <td>1400</td>\n",
       "      <td>2532600</td>\n",
       "    </tr>\n",
       "  </tbody>\n",
       "</table>\n",
       "<p>5490 rows × 8 columns</p>\n",
       "</div>"
      ],
      "text/plain": [
       "     Company_ID Branch_ID Employee_ID Product_ID        DATE  \\\n",
       "0            C1     B-101       E-101      P-101  01-01-2020   \n",
       "1            C1     B-101       E-101      P-101  02-01-2020   \n",
       "2            C1     B-101       E-101      P-101  03-01-2020   \n",
       "3            C1     B-101       E-101      P-101  04-01-2020   \n",
       "4            C1     B-101       E-101      P-101  05-01-2020   \n",
       "...         ...       ...         ...        ...         ...   \n",
       "5485         C3     B-305       E-305      P-305  27-12-2020   \n",
       "5486         C3     B-305       E-305      P-305  28-12-2020   \n",
       "5487         C3     B-305       E-305      P-305  29-12-2020   \n",
       "5488         C3     B-305       E-305      P-305  30-12-2020   \n",
       "5489         C3     B-305       E-305      P-305  31-12-2020   \n",
       "\n",
       "      Product_Quantity  Price    Sales  \n",
       "0                 1826   1500  2739000  \n",
       "1                 1089   1500  1633500  \n",
       "2                 1101   1500  1651500  \n",
       "3                 1366   1500  2049000  \n",
       "4                 1198   1500  1797000  \n",
       "...                ...    ...      ...  \n",
       "5485              1234   1400  1727600  \n",
       "5486              1133   1400  1586200  \n",
       "5487              1741   1400  2437400  \n",
       "5488              1176   1400  1646400  \n",
       "5489              1809   1400  2532600  \n",
       "\n",
       "[5490 rows x 8 columns]"
      ]
     },
     "execution_count": 8,
     "metadata": {},
     "output_type": "execute_result"
    }
   ],
   "source": [
    "Master_df = pd.read_csv('MASTER DATASET - Sheet1.csv')\n",
    "Master_df\n",
    "#reading the csv file"
   ]
  },
  {
   "cell_type": "code",
   "execution_count": 9,
   "metadata": {},
   "outputs": [
    {
     "name": "stdout",
     "output_type": "stream",
     "text": [
      "<class 'pandas.core.frame.DataFrame'>\n",
      "RangeIndex: 5490 entries, 0 to 5489\n",
      "Data columns (total 8 columns):\n",
      " #   Column            Non-Null Count  Dtype \n",
      "---  ------            --------------  ----- \n",
      " 0   Company_ID        5490 non-null   object\n",
      " 1   Branch_ID         5490 non-null   object\n",
      " 2   Employee_ID       5490 non-null   object\n",
      " 3   Product_ID        5490 non-null   object\n",
      " 4   DATE              5490 non-null   object\n",
      " 5   Product_Quantity  5490 non-null   int64 \n",
      " 6   Price             5490 non-null   int64 \n",
      " 7   Sales             5490 non-null   int64 \n",
      "dtypes: int64(3), object(5)\n",
      "memory usage: 343.2+ KB\n"
     ]
    }
   ],
   "source": [
    "Master_df.info()\n",
    "#to get the information about the dataframe"
   ]
  },
  {
   "cell_type": "markdown",
   "metadata": {},
   "source": [
    "# Yearly sales of companies 2020"
   ]
  },
  {
   "cell_type": "code",
   "execution_count": 10,
   "metadata": {},
   "outputs": [
    {
     "data": {
      "text/html": [
       "<div>\n",
       "<style scoped>\n",
       "    .dataframe tbody tr th:only-of-type {\n",
       "        vertical-align: middle;\n",
       "    }\n",
       "\n",
       "    .dataframe tbody tr th {\n",
       "        vertical-align: top;\n",
       "    }\n",
       "\n",
       "    .dataframe thead th {\n",
       "        text-align: right;\n",
       "    }\n",
       "</style>\n",
       "<table border=\"1\" class=\"dataframe\">\n",
       "  <thead>\n",
       "    <tr style=\"text-align: right;\">\n",
       "      <th></th>\n",
       "      <th>Sales</th>\n",
       "      <th>Product_Quantity</th>\n",
       "      <th>Company_name</th>\n",
       "    </tr>\n",
       "    <tr>\n",
       "      <th>Company_ID</th>\n",
       "      <th></th>\n",
       "      <th></th>\n",
       "      <th></th>\n",
       "    </tr>\n",
       "  </thead>\n",
       "  <tbody>\n",
       "    <tr>\n",
       "      <th>C1</th>\n",
       "      <td>4113148500</td>\n",
       "      <td>2742099</td>\n",
       "      <td>TATA</td>\n",
       "    </tr>\n",
       "    <tr>\n",
       "      <th>C2</th>\n",
       "      <td>3559184200</td>\n",
       "      <td>2737834</td>\n",
       "      <td>RELAINCE</td>\n",
       "    </tr>\n",
       "    <tr>\n",
       "      <th>C3</th>\n",
       "      <td>3840692800</td>\n",
       "      <td>2743352</td>\n",
       "      <td>ADANI</td>\n",
       "    </tr>\n",
       "  </tbody>\n",
       "</table>\n",
       "</div>"
      ],
      "text/plain": [
       "                 Sales  Product_Quantity Company_name\n",
       "Company_ID                                           \n",
       "C1          4113148500           2742099         TATA\n",
       "C2          3559184200           2737834     RELAINCE\n",
       "C3          3840692800           2743352        ADANI"
      ]
     },
     "execution_count": 10,
     "metadata": {},
     "output_type": "execute_result"
    }
   ],
   "source": [
    "yearly=Master_df[[\"Company_ID\",\"Sales\",\"Product_Quantity\"]].groupby('Company_ID').sum()\n",
    "yearly['Company_name']=[\"TATA\",'RELAINCE','ADANI']\n",
    "yearly\n",
    "\n",
    "#to get the sum of the sales of each company"
   ]
  },
  {
   "cell_type": "code",
   "execution_count": 11,
   "metadata": {},
   "outputs": [
    {
     "data": {
      "text/plain": [
       "Text(0.5, 1.0, 'Yearly Sales of Companies')"
      ]
     },
     "execution_count": 11,
     "metadata": {},
     "output_type": "execute_result"
    },
    {
     "data": {
      "image/png": "[encoded data removed]",
      "text/plain": [
       "<Figure size 432x288 with 1 Axes>"
      ]
     },
     "metadata": {
      "needs_background": "light"
     },
     "output_type": "display_data"
    }
   ],
   "source": [
    "x=list(Master_df['Company_ID'])\n",
    "y=list(Master_df['Sales'])\n",
    "plt.bar(x,y,color='red')\n",
    "plt.xlabel('Company_ID')\n",
    "plt.ylabel('Sales')\n",
    "plt.title('Yearly Sales of Companies')\n",
    "#to plot the graph of yearly sales of companies"
   ]
  },
  {
   "cell_type": "markdown",
   "metadata": {},
   "source": [
    "# Total Quaterly Sales of Company C1(TATA) In Year 2020"
   ]
  },
  {
   "cell_type": "markdown",
   "metadata": {},
   "source": [
    "Quater 1 Sales of TATA"
   ]
  },
  {
   "cell_type": "code",
   "execution_count": 36,
   "metadata": {},
   "outputs": [
    {
     "data": {
      "text/plain": [
       "1026571500"
      ]
     },
     "execution_count": 36,
     "metadata": {},
     "output_type": "execute_result"
    }
   ],
   "source": [
    "First_C1_Quater_sales=Master_df[(Master_df['DATE']>='2020-01-01')&(Master_df['DATE']<='2020-03-31')&(Master_df['Company_ID']=='C1')]\n",
    "First_C1_Quater_sales.Sales.sum()\n",
    "#to get the sum of the sales of first quater of C1 company"
   ]
  },
  {
   "cell_type": "markdown",
   "metadata": {},
   "source": [
    "Quater 2 Sales of TATA"
   ]
  },
  {
   "cell_type": "code",
   "execution_count": 37,
   "metadata": {},
   "outputs": [
    {
     "data": {
      "text/plain": [
       "1017570000"
      ]
     },
     "execution_count": 37,
     "metadata": {},
     "output_type": "execute_result"
    }
   ],
   "source": [
    "Second_C1_Quater_sales=Master_df[(Master_df['DATE']>='2020-04-01')&(Master_df['DATE']<='2020-06-30')&(Master_df['Company_ID']=='C1')]\n",
    "Second_C1_Quater_sales.Sales.sum()\n",
    "#to get the sum of the sales of second quater of C1 company"
   ]
  },
  {
   "cell_type": "markdown",
   "metadata": {},
   "source": [
    "Quater 3 Sales of TATA"
   ]
  },
  {
   "cell_type": "code",
   "execution_count": 38,
   "metadata": {},
   "outputs": [
    {
     "data": {
      "text/plain": [
       "1041222000"
      ]
     },
     "execution_count": 38,
     "metadata": {},
     "output_type": "execute_result"
    }
   ],
   "source": [
    "Third_C1_Quater_sales=Master_df[(Master_df['DATE']>='2020-07-01')&(Master_df['DATE']<='2020-09-30')&(Master_df['Company_ID']=='C1')]\n",
    "Third_C1_Quater_sales.Sales.sum()\n",
    "#to get the sum of the sales of third quater of C1 company"
   ]
  },
  {
   "cell_type": "markdown",
   "metadata": {},
   "source": [
    "Quater 4 Sales of TATA"
   ]
  },
  {
   "cell_type": "code",
   "execution_count": 39,
   "metadata": {},
   "outputs": [
    {
     "data": {
      "text/plain": [
       "1027785000"
      ]
     },
     "execution_count": 39,
     "metadata": {},
     "output_type": "execute_result"
    }
   ],
   "source": [
    "Fourth_C1_Quater_sales=Master_df[(Master_df['DATE']>='2020-10-01')&(Master_df['DATE']<='2020-12-31')&(Master_df['Company_ID']=='C1')]\n",
    "Fourth_C1_Quater_sales.Sales.sum()\n",
    "#to get the sum of the sales of fourth quater of C1 company"
   ]
  },
  {
   "cell_type": "markdown",
   "metadata": {},
   "source": [
    "# Total Quaterly Sales Of Company C2(Reliance) In Year 2020"
   ]
  },
  {
   "cell_type": "markdown",
   "metadata": {},
   "source": [
    "Quater 1 Sales of Reliance"
   ]
  },
  {
   "cell_type": "code",
   "execution_count": 40,
   "metadata": {},
   "outputs": [
    {
     "data": {
      "text/plain": [
       "883330500"
      ]
     },
     "execution_count": 40,
     "metadata": {},
     "output_type": "execute_result"
    }
   ],
   "source": [
    "First_C2_Quater_sales=Master_df[(Master_df['DATE']>='2020-01-01')&(Master_df['DATE']<='2020-03-31')&(Master_df['Company_ID']=='C2')]\n",
    "First_C2_Quater_sales.Sales.sum()\n",
    "#to get the sum of the sales of first quater of C2 company"
   ]
  },
  {
   "cell_type": "markdown",
   "metadata": {},
   "source": [
    "Quater 2 Sales of Reliance"
   ]
  },
  {
   "cell_type": "code",
   "execution_count": 41,
   "metadata": {},
   "outputs": [
    {
     "data": {
      "text/plain": [
       "887768700"
      ]
     },
     "execution_count": 41,
     "metadata": {},
     "output_type": "execute_result"
    }
   ],
   "source": [
    "Second_C2_Quater_sales=Master_df[(Master_df['DATE']>='2020-04-01')&(Master_df['DATE']<='2020-06-30')&(Master_df['Company_ID']=='C2')]\n",
    "Second_C2_Quater_sales.Sales.sum()\n",
    "#to get the sum of the sales of second quater of C2 company"
   ]
  },
  {
   "cell_type": "markdown",
   "metadata": {},
   "source": [
    "Quater 3 Sales of Reliance"
   ]
  },
  {
   "cell_type": "code",
   "execution_count": 42,
   "metadata": {},
   "outputs": [
    {
     "data": {
      "text/plain": [
       "891888400"
      ]
     },
     "execution_count": 42,
     "metadata": {},
     "output_type": "execute_result"
    }
   ],
   "source": [
    "Third_C2_Quater_sales=Master_df[(Master_df['DATE']>='2020-07-01')&(Master_df['DATE']<='2020-09-30')&(Master_df['Company_ID']=='C2')]\n",
    "Third_C2_Quater_sales.Sales.sum()\n",
    "#to get the sum of the sales of third quater of C2 company"
   ]
  },
  {
   "cell_type": "markdown",
   "metadata": {},
   "source": [
    "Quater 4 Sales of Reliance"
   ]
  },
  {
   "cell_type": "code",
   "execution_count": 43,
   "metadata": {},
   "outputs": [
    {
     "data": {
      "text/plain": [
       "896196600"
      ]
     },
     "execution_count": 43,
     "metadata": {},
     "output_type": "execute_result"
    }
   ],
   "source": [
    "Fourth_C2_Quater_sales=Master_df[(Master_df['DATE']>='2020-10-01')&(Master_df['DATE']<='2020-12-31')&(Master_df['Company_ID']=='C2')]\n",
    "Fourth_C2_Quater_sales.Sales.sum()\n",
    "#to get the sum of the sales of fourth quater of C2 company"
   ]
  },
  {
   "cell_type": "markdown",
   "metadata": {},
   "source": [
    "# Total Quaterly Sales Of Company C3(Adani) In Year 2020"
   ]
  },
  {
   "cell_type": "markdown",
   "metadata": {},
   "source": [
    "Quater 1 Sales of ADANI"
   ]
  },
  {
   "cell_type": "code",
   "execution_count": 44,
   "metadata": {},
   "outputs": [
    {
     "data": {
      "text/plain": [
       "949183200"
      ]
     },
     "execution_count": 44,
     "metadata": {},
     "output_type": "execute_result"
    }
   ],
   "source": [
    "First_C3_Quater_sales=Master_df[(Master_df['DATE']>='2020-01-01')&(Master_df['DATE']<='2020-03-31')&(Master_df['Company_ID']=='C3')]\n",
    "First_C3_Quater_sales.Sales.sum()\n",
    "#to get the sum of the sales of first quater of C3 company"
   ]
  },
  {
   "cell_type": "markdown",
   "metadata": {},
   "source": [
    "Quater 2 Sales of ADANI"
   ]
  },
  {
   "cell_type": "code",
   "execution_count": 45,
   "metadata": {},
   "outputs": [
    {
     "data": {
      "text/plain": [
       "960808800"
      ]
     },
     "execution_count": 45,
     "metadata": {},
     "output_type": "execute_result"
    }
   ],
   "source": [
    "Second_C3_Quater_sales=Master_df[(Master_df['DATE']>='2020-04-01')&(Master_df['DATE']<='2020-06-30')&(Master_df['Company_ID']=='C3')]\n",
    "Second_C3_Quater_sales.Sales.sum()\n",
    "#to get the sum of the sales of second quater of C3 company"
   ]
  },
  {
   "cell_type": "markdown",
   "metadata": {},
   "source": [
    "Quater 3 Sales of ADANI"
   ]
  },
  {
   "cell_type": "code",
   "execution_count": 46,
   "metadata": {},
   "outputs": [
    {
     "data": {
      "text/plain": [
       "964952800"
      ]
     },
     "execution_count": 46,
     "metadata": {},
     "output_type": "execute_result"
    }
   ],
   "source": [
    "Third_C3_Quater_sales=Master_df[(Master_df['DATE']>='2020-07-01')&(Master_df['DATE']<='2020-09-30')&(Master_df['Company_ID']=='C3')]\n",
    "Third_C3_Quater_sales.Sales.sum()\n",
    "#to get the sum of the sales of third quater of C3 company"
   ]
  },
  {
   "cell_type": "markdown",
   "metadata": {},
   "source": [
    "Quater 4 Sales of ADANI"
   ]
  },
  {
   "cell_type": "code",
   "execution_count": 47,
   "metadata": {},
   "outputs": [
    {
     "data": {
      "text/plain": [
       "965748000"
      ]
     },
     "execution_count": 47,
     "metadata": {},
     "output_type": "execute_result"
    }
   ],
   "source": [
    "Fourth_C3_Quater_sales=Master_df[(Master_df['DATE']>='2020-10-01')&(Master_df['DATE']<='2020-12-31')&(Master_df['Company_ID']=='C3')]\n",
    "Fourth_C3_Quater_sales.Sales.sum()\n",
    "#to get the sum of the sales of fourth quater of C3 company"
   ]
  },
  {
   "cell_type": "code",
   "execution_count": 48,
   "metadata": {},
   "outputs": [
    {
     "data": {
      "text/plain": [
       "Text(0.5, 1.0, 'Sales of TATA In 2020')"
      ]
     },
     "execution_count": 48,
     "metadata": {},
     "output_type": "execute_result"
    },
    {
     "data": {
      "image/png": "[encoded data removed]",
      "text/plain": [
       "<Figure size 432x288 with 1 Axes>"
      ]
     },
     "metadata": {
      "needs_background": "light"
     },
     "output_type": "display_data"
    }
   ],
   "source": [
    "Y=list(['1026571500','1017570000','1041222000','1027785000'])\n",
    "x=list(['Quater1','Quater2','Quater3','Quater4'])\n",
    "plt.bar(x,Y,color='yellow',width=0.9,align='center',label='Sales',edgecolor='black')\n",
    "plt.xlabel('Sales')\n",
    "plt.ylabel('Quater')\n",
    "plt.title('Sales of TATA In 2020')\n",
    "#to plot the graph of sales of TATA"
   ]
  },
  {
   "cell_type": "code",
   "execution_count": 25,
   "metadata": {},
   "outputs": [
    {
     "data": {
      "text/plain": [
       "Text(0.5, 1.0, 'Sales of RELAINCE In 2020')"
      ]
     },
     "execution_count": 25,
     "metadata": {},
     "output_type": "execute_result"
    },
    {
     "data": {
      "image/png": "[encoded data removed]",
      "text/plain": [
       "<Figure size 432x288 with 1 Axes>"
      ]
     },
     "metadata": {
      "needs_background": "light"
     },
     "output_type": "display_data"
    }
   ],
   "source": [
    "x=list(['883330500','887768700','891888400','891888400'])\n",
    "y=list(['Quater1','Quater2','Quater3','Quater4'])\n",
    "plt.bar(y,x,color='green',width=0.9,align='center',label='Sales',edgecolor='black')\n",
    "plt.xlabel('Sales')\n",
    "plt.ylabel('Quater')\n",
    "plt.title('Sales of RELAINCE In 2020')\n",
    "#to plot the graph of sales of RELAINCE"
   ]
  },
  {
   "cell_type": "code",
   "execution_count": 26,
   "metadata": {},
   "outputs": [
    {
     "data": {
      "text/plain": [
       "Text(0.5, 1.0, 'Sales of ADANI In 2020')"
      ]
     },
     "execution_count": 26,
     "metadata": {},
     "output_type": "execute_result"
    },
    {
     "data": {
      "image/png": "[encoded data removed]",
      "text/plain": [
       "<Figure size 432x288 with 1 Axes>"
      ]
     },
     "metadata": {
      "needs_background": "light"
     },
     "output_type": "display_data"
    }
   ],
   "source": [
    "x=list(['949183200','960808800','964952800','965748000'])\n",
    "y=list(['Quater1','Quater2','Quater3','Quater4'])\n",
    "plt.bar(y,x,color='purple',width=0.9,align='center',label='Sales',edgecolor='black')\n",
    "plt.xlabel('Sales')\n",
    "plt.ylabel('Quater')\n",
    "plt.title('Sales of ADANI In 2020')\n",
    "#to plot the graph of sales of ADANI"
   ]
  },
  {
   "cell_type": "markdown",
   "metadata": {},
   "source": [
    "# Monthly Sale of companies in 2020"
   ]
  },
  {
   "cell_type": "code",
   "execution_count": 27,
   "metadata": {},
   "outputs": [],
   "source": [
    "Master_df['DATE']=pd.to_datetime(Master_df['DATE'])\n",
    "#converting the date column to datetime format"
   ]
  },
  {
   "cell_type": "code",
   "execution_count": 28,
   "metadata": {},
   "outputs": [],
   "source": [
    "def monthly_sales(month,company):\n",
    "    #monthly_sales function is used to find the monthly sales of a company\n",
    "    monthly_SALES_df = Master_df[(Master_df['DATE']>='2020-'+month+'-01') & (Master_df['DATE']<='2020-'+month+'-31') & (Master_df['Company_ID']==company)]\n",
    "    monthly_SALES_df['Sales'].sum()\n",
    "    #calculating the monthly sales of a company\n",
    "    return monthly_SALES_df['Sales'].sum()\n",
    "    #returning the monthly sales of a company"
   ]
  },
  {
   "cell_type": "code",
   "execution_count": 29,
   "metadata": {},
   "outputs": [
    {
     "data": {
      "text/plain": [
       "345487500"
      ]
     },
     "execution_count": 29,
     "metadata": {},
     "output_type": "execute_result"
    }
   ],
   "source": [
    "#Total january sales of company 1\n",
    "monthly_sales('01','C1')\n",
    "#calling the monthly_sales function to find the monthly sales of a company"
   ]
  },
  {
   "cell_type": "code",
   "execution_count": 30,
   "metadata": {},
   "outputs": [
    {
     "data": {
      "text/plain": [
       "301593500"
      ]
     },
     "execution_count": 30,
     "metadata": {},
     "output_type": "execute_result"
    }
   ],
   "source": [
    "#Total july sales of company 2\n",
    "monthly_sales('01','C2')"
   ]
  },
  {
   "cell_type": "code",
   "execution_count": 31,
   "metadata": {},
   "outputs": [
    {
     "data": {
      "text/plain": [
       "318386600"
      ]
     },
     "execution_count": 31,
     "metadata": {},
     "output_type": "execute_result"
    }
   ],
   "source": [
    "#Total january sales of company 3\n",
    "monthly_sales('01','C3')"
   ]
  },
  {
   "cell_type": "markdown",
   "metadata": {},
   "source": [
    "# Total Employee Sales in 2020"
   ]
  },
  {
   "cell_type": "code",
   "execution_count": 32,
   "metadata": {},
   "outputs": [
    {
     "data": {
      "text/html": [
       "<div>\n",
       "<style scoped>\n",
       "    .dataframe tbody tr th:only-of-type {\n",
       "        vertical-align: middle;\n",
       "    }\n",
       "\n",
       "    .dataframe tbody tr th {\n",
       "        vertical-align: top;\n",
       "    }\n",
       "\n",
       "    .dataframe thead th {\n",
       "        text-align: right;\n",
       "    }\n",
       "</style>\n",
       "<table border=\"1\" class=\"dataframe\">\n",
       "  <thead>\n",
       "    <tr style=\"text-align: right;\">\n",
       "      <th></th>\n",
       "      <th>Product_Quantity</th>\n",
       "      <th>Sales</th>\n",
       "      <th>Employe_name</th>\n",
       "    </tr>\n",
       "    <tr>\n",
       "      <th>Employee_ID</th>\n",
       "      <th></th>\n",
       "      <th></th>\n",
       "      <th></th>\n",
       "    </tr>\n",
       "  </thead>\n",
       "  <tbody>\n",
       "    <tr>\n",
       "      <th>E-101</th>\n",
       "      <td>549173</td>\n",
       "      <td>823759500</td>\n",
       "      <td>A</td>\n",
       "    </tr>\n",
       "    <tr>\n",
       "      <th>E-102</th>\n",
       "      <td>549386</td>\n",
       "      <td>824079000</td>\n",
       "      <td>B</td>\n",
       "    </tr>\n",
       "    <tr>\n",
       "      <th>E-103</th>\n",
       "      <td>544561</td>\n",
       "      <td>816841500</td>\n",
       "      <td>C</td>\n",
       "    </tr>\n",
       "    <tr>\n",
       "      <th>E-104</th>\n",
       "      <td>551048</td>\n",
       "      <td>826572000</td>\n",
       "      <td>D</td>\n",
       "    </tr>\n",
       "    <tr>\n",
       "      <th>E-105</th>\n",
       "      <td>547931</td>\n",
       "      <td>821896500</td>\n",
       "      <td>E</td>\n",
       "    </tr>\n",
       "    <tr>\n",
       "      <th>E-201</th>\n",
       "      <td>552078</td>\n",
       "      <td>717701400</td>\n",
       "      <td>F</td>\n",
       "    </tr>\n",
       "    <tr>\n",
       "      <th>E-202</th>\n",
       "      <td>548112</td>\n",
       "      <td>712545600</td>\n",
       "      <td>G</td>\n",
       "    </tr>\n",
       "    <tr>\n",
       "      <th>E-203</th>\n",
       "      <td>539832</td>\n",
       "      <td>701781600</td>\n",
       "      <td>H</td>\n",
       "    </tr>\n",
       "    <tr>\n",
       "      <th>E-204</th>\n",
       "      <td>546137</td>\n",
       "      <td>709978100</td>\n",
       "      <td>I</td>\n",
       "    </tr>\n",
       "    <tr>\n",
       "      <th>E-205</th>\n",
       "      <td>551675</td>\n",
       "      <td>717177500</td>\n",
       "      <td>J</td>\n",
       "    </tr>\n",
       "    <tr>\n",
       "      <th>E-301</th>\n",
       "      <td>549597</td>\n",
       "      <td>769435800</td>\n",
       "      <td>K</td>\n",
       "    </tr>\n",
       "    <tr>\n",
       "      <th>E-302</th>\n",
       "      <td>546069</td>\n",
       "      <td>764496600</td>\n",
       "      <td>L</td>\n",
       "    </tr>\n",
       "    <tr>\n",
       "      <th>E-303</th>\n",
       "      <td>548255</td>\n",
       "      <td>767557000</td>\n",
       "      <td>M</td>\n",
       "    </tr>\n",
       "    <tr>\n",
       "      <th>E-304</th>\n",
       "      <td>545123</td>\n",
       "      <td>763172200</td>\n",
       "      <td>N</td>\n",
       "    </tr>\n",
       "    <tr>\n",
       "      <th>E-305</th>\n",
       "      <td>554308</td>\n",
       "      <td>776031200</td>\n",
       "      <td>O</td>\n",
       "    </tr>\n",
       "  </tbody>\n",
       "</table>\n",
       "</div>"
      ],
      "text/plain": [
       "             Product_Quantity      Sales Employe_name\n",
       "Employee_ID                                          \n",
       "E-101                  549173  823759500            A\n",
       "E-102                  549386  824079000            B\n",
       "E-103                  544561  816841500            C\n",
       "E-104                  551048  826572000            D\n",
       "E-105                  547931  821896500            E\n",
       "E-201                  552078  717701400            F\n",
       "E-202                  548112  712545600            G\n",
       "E-203                  539832  701781600            H\n",
       "E-204                  546137  709978100            I\n",
       "E-205                  551675  717177500            J\n",
       "E-301                  549597  769435800            K\n",
       "E-302                  546069  764496600            L\n",
       "E-303                  548255  767557000            M\n",
       "E-304                  545123  763172200            N\n",
       "E-305                  554308  776031200            O"
      ]
     },
     "execution_count": 32,
     "metadata": {},
     "output_type": "execute_result"
    }
   ],
   "source": [
    "employee=Master_df[[\"Employee_ID\",\"Product_Quantity\",\"Sales\"]].groupby(\"Employee_ID\").sum()\n",
    "employee['Employe_name']=['A','B','C','D','E','F','G','H','I','J','K','L','M','N','O']\n",
    "employee\n",
    "#to find the total sales of each employee"
   ]
  },
  {
   "cell_type": "code",
   "execution_count": 33,
   "metadata": {},
   "outputs": [
    {
     "data": {
      "text/plain": [
       "Text(0.5, 1.0, 'Sales of Employee in companies')"
      ]
     },
     "execution_count": 33,
     "metadata": {},
     "output_type": "execute_result"
    },
    {
     "data": {
      "image/png": "[encoded data removed]",
      "text/plain": [
       "<Figure size 720x720 with 1 Axes>"
      ]
     },
     "metadata": {
      "needs_background": "light"
     },
     "output_type": "display_data"
    }
   ],
   "source": [
    "employee.plot(kind='bar',figsize=(10,10),color='blue',edgecolor='black',width=0.9,align='center',label='Sales',legend=True)\n",
    "plt.xlabel('Employe_name')\n",
    "plt.ylabel('Sales')\n",
    "plt.title('Sales of Employee in companies')\n",
    "#to plot the graph of sales of each employee\n",
    "#to find the total sales of each employee"
   ]
  },
  {
   "cell_type": "markdown",
   "metadata": {},
   "source": [
    "# Total Product Quantity and Sales in 2020"
   ]
  },
  {
   "cell_type": "code",
   "execution_count": 34,
   "metadata": {},
   "outputs": [
    {
     "data": {
      "text/html": [
       "<div>\n",
       "<style scoped>\n",
       "    .dataframe tbody tr th:only-of-type {\n",
       "        vertical-align: middle;\n",
       "    }\n",
       "\n",
       "    .dataframe tbody tr th {\n",
       "        vertical-align: top;\n",
       "    }\n",
       "\n",
       "    .dataframe thead th {\n",
       "        text-align: right;\n",
       "    }\n",
       "</style>\n",
       "<table border=\"1\" class=\"dataframe\">\n",
       "  <thead>\n",
       "    <tr style=\"text-align: right;\">\n",
       "      <th></th>\n",
       "      <th>Product_Quantity</th>\n",
       "      <th>Sales</th>\n",
       "      <th>Product_name</th>\n",
       "    </tr>\n",
       "    <tr>\n",
       "      <th>Product_ID</th>\n",
       "      <th></th>\n",
       "      <th></th>\n",
       "      <th></th>\n",
       "    </tr>\n",
       "  </thead>\n",
       "  <tbody>\n",
       "    <tr>\n",
       "      <th>P-101</th>\n",
       "      <td>549173</td>\n",
       "      <td>823759500</td>\n",
       "      <td>TAtA_product</td>\n",
       "    </tr>\n",
       "    <tr>\n",
       "      <th>P-102</th>\n",
       "      <td>549386</td>\n",
       "      <td>824079000</td>\n",
       "      <td>TAtA_product</td>\n",
       "    </tr>\n",
       "    <tr>\n",
       "      <th>P-103</th>\n",
       "      <td>544561</td>\n",
       "      <td>816841500</td>\n",
       "      <td>TAtA_product</td>\n",
       "    </tr>\n",
       "    <tr>\n",
       "      <th>P-104</th>\n",
       "      <td>552748</td>\n",
       "      <td>829122000</td>\n",
       "      <td>TAtA_product</td>\n",
       "    </tr>\n",
       "    <tr>\n",
       "      <th>P-105</th>\n",
       "      <td>546231</td>\n",
       "      <td>819346500</td>\n",
       "      <td>TAtA_product</td>\n",
       "    </tr>\n",
       "    <tr>\n",
       "      <th>P-201</th>\n",
       "      <td>552078</td>\n",
       "      <td>717701400</td>\n",
       "      <td>RELAINCE_product</td>\n",
       "    </tr>\n",
       "    <tr>\n",
       "      <th>P-202</th>\n",
       "      <td>548112</td>\n",
       "      <td>712545600</td>\n",
       "      <td>RELAINCE_product</td>\n",
       "    </tr>\n",
       "    <tr>\n",
       "      <th>P-203</th>\n",
       "      <td>539832</td>\n",
       "      <td>701781600</td>\n",
       "      <td>RELAINCE_product</td>\n",
       "    </tr>\n",
       "    <tr>\n",
       "      <th>P-204</th>\n",
       "      <td>546137</td>\n",
       "      <td>709978100</td>\n",
       "      <td>RELAINCE_product</td>\n",
       "    </tr>\n",
       "    <tr>\n",
       "      <th>P-205</th>\n",
       "      <td>551675</td>\n",
       "      <td>717177500</td>\n",
       "      <td>RELAINCE_product</td>\n",
       "    </tr>\n",
       "    <tr>\n",
       "      <th>P-301</th>\n",
       "      <td>549597</td>\n",
       "      <td>769435800</td>\n",
       "      <td>ADANI_product</td>\n",
       "    </tr>\n",
       "    <tr>\n",
       "      <th>P-302</th>\n",
       "      <td>546069</td>\n",
       "      <td>764496600</td>\n",
       "      <td>ADANI_product</td>\n",
       "    </tr>\n",
       "    <tr>\n",
       "      <th>P-303</th>\n",
       "      <td>548255</td>\n",
       "      <td>767557000</td>\n",
       "      <td>ADANI_product</td>\n",
       "    </tr>\n",
       "    <tr>\n",
       "      <th>P-304</th>\n",
       "      <td>545123</td>\n",
       "      <td>763172200</td>\n",
       "      <td>ADANI_product</td>\n",
       "    </tr>\n",
       "    <tr>\n",
       "      <th>P-305</th>\n",
       "      <td>554308</td>\n",
       "      <td>776031200</td>\n",
       "      <td>ADANI_product</td>\n",
       "    </tr>\n",
       "  </tbody>\n",
       "</table>\n",
       "</div>"
      ],
      "text/plain": [
       "            Product_Quantity      Sales      Product_name\n",
       "Product_ID                                               \n",
       "P-101                 549173  823759500      TAtA_product\n",
       "P-102                 549386  824079000      TAtA_product\n",
       "P-103                 544561  816841500      TAtA_product\n",
       "P-104                 552748  829122000      TAtA_product\n",
       "P-105                 546231  819346500      TAtA_product\n",
       "P-201                 552078  717701400  RELAINCE_product\n",
       "P-202                 548112  712545600  RELAINCE_product\n",
       "P-203                 539832  701781600  RELAINCE_product\n",
       "P-204                 546137  709978100  RELAINCE_product\n",
       "P-205                 551675  717177500  RELAINCE_product\n",
       "P-301                 549597  769435800     ADANI_product\n",
       "P-302                 546069  764496600     ADANI_product\n",
       "P-303                 548255  767557000     ADANI_product\n",
       "P-304                 545123  763172200     ADANI_product\n",
       "P-305                 554308  776031200     ADANI_product"
      ]
     },
     "execution_count": 34,
     "metadata": {},
     "output_type": "execute_result"
    }
   ],
   "source": [
    "product_df=Master_df[[\"Product_ID\",\"Product_Quantity\",\"Sales\"]].groupby(\"Product_ID\").sum()\n",
    "product_df['Product_name']=['TAtA_product','TAtA_product','TAtA_product','TAtA_product','TAtA_product','RELAINCE_product','RELAINCE_product','RELAINCE_product','RELAINCE_product','RELAINCE_product','ADANI_product','ADANI_product','ADANI_product','ADANI_product','ADANI_product']\n",
    "product_df\n",
    "#to find the total sales of each product"
   ]
  },
  {
   "cell_type": "code",
   "execution_count": 35,
   "metadata": {},
   "outputs": [
    {
     "data": {
      "text/plain": [
       "<AxesSubplot:xlabel='Product_ID'>"
      ]
     },
     "execution_count": 35,
     "metadata": {},
     "output_type": "execute_result"
    },
    {
     "data": {
      "image/png": "[encoded data removed]",
      "text/plain": [
       "<Figure size 720x720 with 1 Axes>"
      ]
     },
     "metadata": {
      "needs_background": "light"
     },
     "output_type": "display_data"
    }
   ],
   "source": [
    "product_df.plot(kind='bar',figsize=(10,10),color='orange',edgecolor='black',width=0.9,align='center',label='Sales',legend=True)\n",
    "#to plot the graph of sales of each product"
   ]
  }
 ],
 "metadata": {
  "interpreter": {
   "hash": "94336aa1ee91038f1f0bfae20001902f98c3d490ee2d44a1e2e60b67e6d5804c"
  },
  "kernelspec": {
   "display_name": "Python 3.9.7 ('base')",
   "language": "python",
   "name": "python3"
  },
  "language_info": {
   "codemirror_mode": {
    "name": "ipython",
    "version": 3
   },
   "file_extension": ".py",
   "mimetype": "text/x-python",
   "name": "python",
   "nbconvert_exporter": "python",
   "pygments_lexer": "ipython3",
   "version": "3.9.7"
  },
  "orig_nbformat": 4
 },
 "nbformat": 4,
 "nbformat_minor": 2
}
